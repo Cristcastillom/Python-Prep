{
 "cells": [
  {
   "attachments": {},
   "cell_type": "markdown",
   "metadata": {},
   "source": [
    "## Flujos de Control"
   ]
  },
  {
   "attachments": {},
   "cell_type": "markdown",
   "metadata": {},
   "source": [
    "1) Crear una variable que contenga un elemento del conjunto de números enteros y luego imprimir por pantalla si es mayor o menor a cero"
   ]
  },
  {
   "cell_type": "code",
   "execution_count": 2,
   "metadata": {},
   "outputs": [
    {
     "name": "stdout",
     "output_type": "stream",
     "text": [
      "la variable 5 es mayor a cero\n"
     ]
    }
   ],
   "source": [
    "x=5\n",
    "if x>0:\n",
    "    print(\"la variable\",x,\"es mayor a cero\")\n",
    "else:\n",
    "    print(\"la variable\", x,\" es menor o igual a cero\")\n"
   ]
  },
  {
   "attachments": {},
   "cell_type": "markdown",
   "metadata": {},
   "source": [
    "2) Crear dos variables y un condicional que informe si son del mismo tipo de dato"
   ]
  },
  {
   "cell_type": "code",
   "execution_count": 4,
   "metadata": {},
   "outputs": [
    {
     "name": "stdout",
     "output_type": "stream",
     "text": [
      "las variables son de diferente tipo\n"
     ]
    }
   ],
   "source": [
    "a=2\n",
    "x=\"2\"\n",
    "\n",
    "if (type(a)==type(x)):\n",
    "    print(\"las variables son del mismo tipo\")\n",
    "else:\n",
    "    print(\"las variables son de diferente tipo\")\n"
   ]
  },
  {
   "attachments": {},
   "cell_type": "markdown",
   "metadata": {},
   "source": [
    "3) Para los valores enteros del 1 al 20, imprimir por pantalla si es par o impar"
   ]
  },
  {
   "cell_type": "code",
   "execution_count": 5,
   "metadata": {},
   "outputs": [
    {
     "name": "stdout",
     "output_type": "stream",
     "text": [
      "0  es par\n",
      "1 es impar\n",
      "2  es par\n",
      "3 es impar\n",
      "4  es par\n",
      "5 es impar\n",
      "6  es par\n",
      "7 es impar\n",
      "8  es par\n",
      "9 es impar\n",
      "10  es par\n",
      "11 es impar\n",
      "12  es par\n",
      "13 es impar\n",
      "14  es par\n",
      "15 es impar\n",
      "16  es par\n",
      "17 es impar\n",
      "18  es par\n",
      "19 es impar\n"
     ]
    }
   ],
   "source": [
    "for i in range(0,20):\n",
    "    if i%2 == 0:\n",
    "        print(i,\" es par\")\n",
    "    else:\n",
    "        print(i, \"es impar\")"
   ]
  },
  {
   "attachments": {},
   "cell_type": "markdown",
   "metadata": {},
   "source": [
    "4) En un ciclo for mostrar para los valores entre 0 y 5 el resultado de elevarlo a la potencia igual a 3"
   ]
  },
  {
   "cell_type": "code",
   "execution_count": 7,
   "metadata": {},
   "outputs": [
    {
     "name": "stdout",
     "output_type": "stream",
     "text": [
      "0\n",
      "1\n",
      "8\n",
      "27\n",
      "64\n",
      "125\n"
     ]
    }
   ],
   "source": [
    "for i in range(0,6):\n",
    "    print(i**3)"
   ]
  },
  {
   "attachments": {},
   "cell_type": "markdown",
   "metadata": {},
   "source": [
    "5) Crear una variable que contenga un número entero y realizar un ciclo for la misma cantidad de ciclos"
   ]
  },
  {
   "cell_type": "code",
   "execution_count": 11,
   "metadata": {},
   "outputs": [
    {
     "name": "stdout",
     "output_type": "stream",
     "text": [
      "numero de ciclos igual a  4\n",
      "numero de ciclos igual a  4\n",
      "numero de ciclos igual a  4\n",
      "numero de ciclos igual a  4\n"
     ]
    }
   ],
   "source": [
    "x=4\n",
    "\n",
    "for i in range(x):\n",
    "    print(\"numero de ciclos igual a \",str(x))"
   ]
  },
  {
   "attachments": {},
   "cell_type": "markdown",
   "metadata": {},
   "source": [
    "6) Utilizar un ciclo while para realizar el factorial de un número guardado en una variable, sólo si la variable contiene un número entero mayor a 0"
   ]
  },
  {
   "cell_type": "code",
   "execution_count": 54,
   "metadata": {},
   "outputs": [
    {
     "name": "stdout",
     "output_type": "stream",
     "text": [
      "120\n"
     ]
    }
   ],
   "source": [
    "variable=5\n",
    "a=1\n",
    "factorial= 1\n",
    "\n",
    "while a!=variable:\n",
    "    if variable>0:\n",
    "        a= a+1\n",
    "        factorial= factorial*a\n",
    "    else:\n",
    "        print(\"numero igual o menor a cero\")\n",
    "        break\n",
    "if variable>0:\n",
    "    print(factorial)\n",
    "else:\n",
    "    print(\"cambie variable\")\n"
   ]
  },
  {
   "attachments": {},
   "cell_type": "markdown",
   "metadata": {},
   "source": [
    "7) Crear un ciclo for dentro de un ciclo while"
   ]
  },
  {
   "cell_type": "code",
   "execution_count": 55,
   "metadata": {},
   "outputs": [
    {
     "name": "stdout",
     "output_type": "stream",
     "text": [
      "este ciclo acaba al llegar a 10\n",
      "1\n",
      "2\n",
      "3\n",
      "4\n",
      "5\n",
      "6\n",
      "7\n",
      "8\n",
      "9\n",
      "10\n"
     ]
    }
   ],
   "source": [
    "a=1\n",
    "print(\"este ciclo acaba al llegar a 10\")\n",
    "while a<10:\n",
    "    for i in range(10):\n",
    "        print(a)\n",
    "        a+=1\n"
   ]
  },
  {
   "attachments": {},
   "cell_type": "markdown",
   "metadata": {},
   "source": [
    "8) Crear un ciclo while dentro de un ciclo for"
   ]
  },
  {
   "cell_type": "code",
   "execution_count": 64,
   "metadata": {},
   "outputs": [
    {
     "name": "stdout",
     "output_type": "stream",
     "text": [
      "solo debe haber 10 registros\n",
      "solo debe haber 10 registros\n",
      "solo debe haber 10 registros\n",
      "solo debe haber 10 registros\n",
      "solo debe haber 10 registros\n",
      "solo debe haber 10 registros\n",
      "solo debe haber 10 registros\n",
      "solo debe haber 10 registros\n",
      "solo debe haber 10 registros\n",
      "solo debe haber 10 registros\n"
     ]
    }
   ],
   "source": [
    "a=10\n",
    "for i in range(1,a):\n",
    "    while a>0:\n",
    "        print(\"solo debe haber 10 registros\")\n",
    "        a-=1\n"
   ]
  },
  {
   "attachments": {},
   "cell_type": "markdown",
   "metadata": {},
   "source": [
    "9) Imprimir los números primos existentes entre 0 y 30"
   ]
  },
  {
   "cell_type": "code",
   "execution_count": 74,
   "metadata": {},
   "outputs": [
    {
     "name": "stdout",
     "output_type": "stream",
     "text": [
      "1\n",
      "2\n",
      "3\n",
      "5\n",
      "7\n",
      "11\n",
      "13\n",
      "17\n",
      "19\n",
      "23\n",
      "29\n"
     ]
    }
   ],
   "source": [
    "n=1\n",
    "primo=True\n",
    "while n < 30:\n",
    "    for i in range(2,n):\n",
    "        if n%i==0:\n",
    "            primo=False\n",
    "    if primo==True:\n",
    "        print(n)\n",
    "    else:\n",
    "        primo= True\n",
    "    n+=1\n",
    "\n",
    "    "
   ]
  },
  {
   "attachments": {},
   "cell_type": "markdown",
   "metadata": {},
   "source": [
    "10) ¿Se puede mejorar el proceso del punto 9? Utilizar las sentencias break y/ó continue para tal fin"
   ]
  },
  {
   "cell_type": "code",
   "execution_count": null,
   "metadata": {},
   "outputs": [],
   "source": [
    "n=1\n",
    "primo=True\n",
    "while n < 30:\n",
    "    for i in range(2,n):\n",
    "        if n%i==0:\n",
    "            primo=False\n",
    "            break\n",
    "    if primo==True:\n",
    "        print(n)\n",
    "    else:\n",
    "        primo= True\n",
    "    n+=1"
   ]
  },
  {
   "attachments": {},
   "cell_type": "markdown",
   "metadata": {},
   "source": [
    "11) En los puntos 9 y 10, se diseño un código que encuentra números primos y además se lo optimizó. ¿Es posible saber en qué medida se optimizó?"
   ]
  },
  {
   "cell_type": "code",
   "execution_count": null,
   "metadata": {},
   "outputs": [],
   "source": []
  },
  {
   "attachments": {},
   "cell_type": "markdown",
   "metadata": {},
   "source": [
    "12) Aplicando continue, armar un ciclo while que solo imprima los valores divisibles por 12, dentro del rango de números de 100 a 300"
   ]
  },
  {
   "cell_type": "code",
   "execution_count": 76,
   "metadata": {},
   "outputs": [
    {
     "name": "stdout",
     "output_type": "stream",
     "text": [
      "108\n",
      "120\n",
      "132\n",
      "144\n",
      "156\n",
      "168\n",
      "180\n",
      "192\n",
      "204\n",
      "216\n",
      "228\n",
      "240\n",
      "252\n",
      "264\n",
      "276\n",
      "288\n",
      "300\n"
     ]
    }
   ],
   "source": [
    "n=99\n",
    "\n",
    "while n<300:\n",
    "    n+=1\n",
    "    if n%12 != 0:\n",
    "        continue\n",
    "    else:\n",
    "        print(n)\n",
    "\n",
    "\n"
   ]
  },
  {
   "attachments": {},
   "cell_type": "markdown",
   "metadata": {},
   "source": [
    "13) Utilizar la función **input()** que permite hacer ingresos por teclado, para encontrar números primos y dar la opción al usario de buscar el siguiente"
   ]
  },
  {
   "cell_type": "code",
   "execution_count": 85,
   "metadata": {},
   "outputs": [
    {
     "name": "stdout",
     "output_type": "stream",
     "text": [
      "1\n",
      "¿quiere buscar el siguiente numero primo\n",
      "2\n",
      "¿quiere buscar el siguiente numero primo\n",
      "3\n",
      "¿quiere buscar el siguiente numero primo\n",
      "5\n",
      "¿quiere buscar el siguiente numero primo\n",
      "7\n",
      "¿quiere buscar el siguiente numero primo\n",
      "11\n",
      "¿quiere buscar el siguiente numero primo\n"
     ]
    }
   ],
   "source": [
    "n=1\n",
    "primo=True\n",
    "while n < 30:\n",
    "    for i in range(2,n):\n",
    "        if n%i==0:\n",
    "            primo=False\n",
    "            break\n",
    "    if primo==True:\n",
    "        print(n)\n",
    "        print(\"¿quiere buscar el siguiente numero primo\")\n",
    "        if str(input())!=\"si\":\n",
    "            break \n",
    "    else:\n",
    "        primo= True\n",
    "    n+=1\n",
    "    \n"
   ]
  },
  {
   "attachments": {},
   "cell_type": "markdown",
   "metadata": {},
   "source": [
    "14) Crear un ciclo while que encuentre dentro del rango de 100 a 300 el primer número divisible por 3 y además múltiplo de 6"
   ]
  },
  {
   "cell_type": "code",
   "execution_count": 86,
   "metadata": {},
   "outputs": [
    {
     "name": "stdout",
     "output_type": "stream",
     "text": [
      "102\n"
     ]
    }
   ],
   "source": [
    "n=99\n",
    "while n<300:\n",
    "    if n%6==0:\n",
    "        print(n)\n",
    "        break\n",
    "    n+=1\n",
    "    \n"
   ]
  }
 ],
 "metadata": {
  "interpreter": {
   "hash": "c85384e4cb51c8b72350f3a8712cc8351fdc3955e32a27f9b60c6242ab125f01"
  },
  "kernelspec": {
   "display_name": "Python 3 (ipykernel)",
   "language": "python",
   "name": "python3"
  },
  "language_info": {
   "codemirror_mode": {
    "name": "ipython",
    "version": 3
   },
   "file_extension": ".py",
   "mimetype": "text/x-python",
   "name": "python",
   "nbconvert_exporter": "python",
   "pygments_lexer": "ipython3",
   "version": "3.12.1"
  }
 },
 "nbformat": 4,
 "nbformat_minor": 4
}
